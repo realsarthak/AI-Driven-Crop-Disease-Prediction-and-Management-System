{
 "cells": [
  {
   "cell_type": "code",
   "execution_count": null,
   "metadata": {},
   "outputs": [
    {
     "name": "stdout",
     "output_type": "stream",
     "text": [
      "Found 1711 images belonging to 8 classes.\n",
      "Found 426 images belonging to 8 classes.\n"
     ]
    },
    {
     "name": "stderr",
     "output_type": "stream",
     "text": [
      "WARNING:absl:At this time, the v2.11+ optimizer `tf.keras.optimizers.Adam` runs slowly on M1/M2 Macs, please use the legacy Keras optimizer instead, located at `tf.keras.optimizers.legacy.Adam`.\n",
      "WARNING:absl:There is a known slowdown when using v2.11+ Keras optimizers on M1/M2 Macs. Falling back to the legacy Keras optimizer, i.e., `tf.keras.optimizers.legacy.Adam`.\n"
     ]
    },
    {
     "name": "stdout",
     "output_type": "stream",
     "text": [
      "Training MobileNetV2...\n",
      "Epoch 1/20\n"
     ]
    },
    {
     "name": "stderr",
     "output_type": "stream",
     "text": [
      "2025-03-03 00:51:44.357929: I tensorflow/core/grappler/optimizers/custom_graph_optimizer_registry.cc:114] Plugin optimizer for device_type GPU is enabled.\n"
     ]
    },
    {
     "name": "stdout",
     "output_type": "stream",
     "text": [
      "53/53 [==============================] - ETA: 0s - loss: 1.5773 - accuracy: 0.4568"
     ]
    },
    {
     "name": "stderr",
     "output_type": "stream",
     "text": [
      "2025-03-03 00:52:07.458659: I tensorflow/core/grappler/optimizers/custom_graph_optimizer_registry.cc:114] Plugin optimizer for device_type GPU is enabled.\n",
      "/opt/anaconda3/envs/AgriGo3/lib/python3.8/site-packages/keras/src/engine/training.py:3000: UserWarning: You are saving your model as an HDF5 file via `model.save()`. This file format is considered legacy. We recommend using instead the native Keras format, e.g. `model.save('my_model.keras')`.\n",
      "  saving_api.save_model(\n"
     ]
    },
    {
     "name": "stdout",
     "output_type": "stream",
     "text": [
      "53/53 [==============================] - 30s 493ms/step - loss: 1.5773 - accuracy: 0.4568 - val_loss: 1.0439 - val_accuracy: 0.5962\n",
      "Epoch 2/20\n",
      "53/53 [==============================] - 28s 533ms/step - loss: 0.8133 - accuracy: 0.6957 - val_loss: 0.7974 - val_accuracy: 0.6635\n",
      "Epoch 3/20\n",
      "53/53 [==============================] - 27s 514ms/step - loss: 0.6131 - accuracy: 0.7737 - val_loss: 0.8676 - val_accuracy: 0.6707\n",
      "Epoch 4/20\n",
      "53/53 [==============================] - 27s 515ms/step - loss: 0.5373 - accuracy: 0.8035 - val_loss: 0.7468 - val_accuracy: 0.7524\n",
      "Epoch 5/20\n",
      "53/53 [==============================] - 32s 611ms/step - loss: 0.4742 - accuracy: 0.8314 - val_loss: 0.7133 - val_accuracy: 0.7596\n",
      "Epoch 6/20\n",
      "53/53 [==============================] - 27s 504ms/step - loss: 0.4355 - accuracy: 0.8410 - val_loss: 0.6471 - val_accuracy: 0.7764\n",
      "Epoch 7/20\n",
      "53/53 [==============================] - 25s 475ms/step - loss: 0.4002 - accuracy: 0.8553 - val_loss: 0.6844 - val_accuracy: 0.7596\n",
      "Epoch 8/20\n",
      "53/53 [==============================] - 25s 468ms/step - loss: 0.3506 - accuracy: 0.8714 - val_loss: 0.6913 - val_accuracy: 0.7524\n",
      "Epoch 9/20\n",
      "53/53 [==============================] - 25s 471ms/step - loss: 0.3265 - accuracy: 0.8851 - val_loss: 0.8037 - val_accuracy: 0.7188\n",
      "Epoch 10/20\n",
      "53/53 [==============================] - 25s 467ms/step - loss: 0.3360 - accuracy: 0.8719 - val_loss: 0.7296 - val_accuracy: 0.7308\n",
      "Epoch 11/20\n",
      "53/53 [==============================] - 25s 471ms/step - loss: 0.3029 - accuracy: 0.8976 - val_loss: 0.7759 - val_accuracy: 0.7332\n",
      "14/14 [==============================] - 5s 363ms/step - loss: 0.6515 - accuracy: 0.7629\n"
     ]
    },
    {
     "name": "stderr",
     "output_type": "stream",
     "text": [
      "WARNING:absl:At this time, the v2.11+ optimizer `tf.keras.optimizers.Adam` runs slowly on M1/M2 Macs, please use the legacy Keras optimizer instead, located at `tf.keras.optimizers.legacy.Adam`.\n",
      "WARNING:absl:There is a known slowdown when using v2.11+ Keras optimizers on M1/M2 Macs. Falling back to the legacy Keras optimizer, i.e., `tf.keras.optimizers.legacy.Adam`.\n"
     ]
    },
    {
     "name": "stdout",
     "output_type": "stream",
     "text": [
      "MobileNetV2 Validation Accuracy: 76.29%\n",
      "Training ResNet50...\n",
      "Epoch 1/20\n"
     ]
    },
    {
     "name": "stderr",
     "output_type": "stream",
     "text": [
      "2025-03-03 00:56:47.298681: I tensorflow/core/grappler/optimizers/custom_graph_optimizer_registry.cc:114] Plugin optimizer for device_type GPU is enabled.\n"
     ]
    },
    {
     "name": "stdout",
     "output_type": "stream",
     "text": [
      "53/53 [==============================] - ETA: 0s - loss: 2.2374 - accuracy: 0.1965"
     ]
    },
    {
     "name": "stderr",
     "output_type": "stream",
     "text": [
      "2025-03-03 00:57:21.644945: I tensorflow/core/grappler/optimizers/custom_graph_optimizer_registry.cc:114] Plugin optimizer for device_type GPU is enabled.\n"
     ]
    },
    {
     "name": "stdout",
     "output_type": "stream",
     "text": [
      "53/53 [==============================] - 44s 749ms/step - loss: 2.2374 - accuracy: 0.1965 - val_loss: 1.8462 - val_accuracy: 0.2043\n",
      "Epoch 2/20\n",
      "53/53 [==============================] - 38s 724ms/step - loss: 1.9768 - accuracy: 0.2335 - val_loss: 1.8547 - val_accuracy: 0.2019\n",
      "Epoch 3/20\n",
      "53/53 [==============================] - 39s 727ms/step - loss: 1.8785 - accuracy: 0.2496 - val_loss: 1.8271 - val_accuracy: 0.1995\n",
      "Epoch 4/20\n",
      "53/53 [==============================] - 39s 740ms/step - loss: 1.8525 - accuracy: 0.2680 - val_loss: 1.8062 - val_accuracy: 0.2260\n",
      "Epoch 5/20\n",
      "53/53 [==============================] - 39s 740ms/step - loss: 1.8327 - accuracy: 0.2752 - val_loss: 1.7889 - val_accuracy: 0.2139\n",
      "Epoch 6/20\n",
      "53/53 [==============================] - 39s 733ms/step - loss: 1.8024 - accuracy: 0.2775 - val_loss: 1.7615 - val_accuracy: 0.2572\n",
      "Epoch 7/20\n",
      "53/53 [==============================] - 39s 728ms/step - loss: 1.7966 - accuracy: 0.2817 - val_loss: 1.7699 - val_accuracy: 0.2428\n",
      "Epoch 8/20\n",
      "53/53 [==============================] - 39s 729ms/step - loss: 1.7730 - accuracy: 0.3043 - val_loss: 1.7744 - val_accuracy: 0.2043\n",
      "Epoch 9/20\n",
      "53/53 [==============================] - 39s 735ms/step - loss: 1.7748 - accuracy: 0.2996 - val_loss: 1.7558 - val_accuracy: 0.2236\n",
      "Epoch 10/20\n",
      "53/53 [==============================] - 38s 731ms/step - loss: 1.7652 - accuracy: 0.3133 - val_loss: 1.7604 - val_accuracy: 0.2308\n",
      "Epoch 11/20\n",
      "53/53 [==============================] - 39s 729ms/step - loss: 1.7458 - accuracy: 0.3103 - val_loss: 1.7594 - val_accuracy: 0.2067\n",
      "14/14 [==============================] - 8s 577ms/step - loss: 1.7624 - accuracy: 0.2840\n"
     ]
    },
    {
     "name": "stderr",
     "output_type": "stream",
     "text": [
      "WARNING:absl:At this time, the v2.11+ optimizer `tf.keras.optimizers.Adam` runs slowly on M1/M2 Macs, please use the legacy Keras optimizer instead, located at `tf.keras.optimizers.legacy.Adam`.\n",
      "WARNING:absl:There is a known slowdown when using v2.11+ Keras optimizers on M1/M2 Macs. Falling back to the legacy Keras optimizer, i.e., `tf.keras.optimizers.legacy.Adam`.\n"
     ]
    },
    {
     "name": "stdout",
     "output_type": "stream",
     "text": [
      "ResNet50 Validation Accuracy: 28.40%\n",
      "Training EfficientNetB0...\n",
      "Epoch 1/20\n"
     ]
    },
    {
     "name": "stderr",
     "output_type": "stream",
     "text": [
      "2025-03-03 01:04:08.946346: I tensorflow/core/grappler/optimizers/custom_graph_optimizer_registry.cc:114] Plugin optimizer for device_type GPU is enabled.\n"
     ]
    },
    {
     "name": "stdout",
     "output_type": "stream",
     "text": [
      "53/53 [==============================] - ETA: 0s - loss: 1.9074 - accuracy: 0.2525"
     ]
    },
    {
     "name": "stderr",
     "output_type": "stream",
     "text": [
      "2025-03-03 01:04:37.508530: I tensorflow/core/grappler/optimizers/custom_graph_optimizer_registry.cc:114] Plugin optimizer for device_type GPU is enabled.\n"
     ]
    },
    {
     "name": "stdout",
     "output_type": "stream",
     "text": [
      "53/53 [==============================] - 38s 600ms/step - loss: 1.9074 - accuracy: 0.2525 - val_loss: 1.8500 - val_accuracy: 0.2740\n",
      "Epoch 2/20\n",
      "53/53 [==============================] - 31s 583ms/step - loss: 1.8898 - accuracy: 0.2519 - val_loss: 1.8571 - val_accuracy: 0.2668\n",
      "Epoch 3/20\n",
      "53/53 [==============================] - 31s 582ms/step - loss: 1.8713 - accuracy: 0.2513 - val_loss: 1.8648 - val_accuracy: 0.2692\n",
      "Epoch 4/20\n",
      "53/53 [==============================] - 31s 589ms/step - loss: 1.8724 - accuracy: 0.2638 - val_loss: 1.8720 - val_accuracy: 0.1995\n",
      "Epoch 5/20\n",
      "53/53 [==============================] - 32s 600ms/step - loss: 1.8715 - accuracy: 0.2585 - val_loss: 1.8510 - val_accuracy: 0.2740\n",
      "Epoch 6/20\n",
      "53/53 [==============================] - 31s 589ms/step - loss: 1.8550 - accuracy: 0.2621 - val_loss: 1.8657 - val_accuracy: 0.2716\n",
      "14/14 [==============================] - 7s 514ms/step - loss: 1.8503 - accuracy: 0.2700\n"
     ]
    },
    {
     "name": "stderr",
     "output_type": "stream",
     "text": [
      "WARNING:absl:At this time, the v2.11+ optimizer `tf.keras.optimizers.Adam` runs slowly on M1/M2 Macs, please use the legacy Keras optimizer instead, located at `tf.keras.optimizers.legacy.Adam`.\n",
      "WARNING:absl:There is a known slowdown when using v2.11+ Keras optimizers on M1/M2 Macs. Falling back to the legacy Keras optimizer, i.e., `tf.keras.optimizers.legacy.Adam`.\n"
     ]
    },
    {
     "name": "stdout",
     "output_type": "stream",
     "text": [
      "EfficientNetB0 Validation Accuracy: 27.00%\n",
      "Training InceptionV3...\n",
      "Epoch 1/20\n"
     ]
    },
    {
     "name": "stderr",
     "output_type": "stream",
     "text": [
      "2025-03-03 01:07:30.346435: I tensorflow/core/grappler/optimizers/custom_graph_optimizer_registry.cc:114] Plugin optimizer for device_type GPU is enabled.\n"
     ]
    },
    {
     "name": "stdout",
     "output_type": "stream",
     "text": [
      "53/53 [==============================] - ETA: 0s - loss: 1.7722 - accuracy: 0.4110"
     ]
    },
    {
     "name": "stderr",
     "output_type": "stream",
     "text": [
      "2025-03-03 01:07:57.957823: I tensorflow/core/grappler/optimizers/custom_graph_optimizer_registry.cc:114] Plugin optimizer for device_type GPU is enabled.\n"
     ]
    },
    {
     "name": "stdout",
     "output_type": "stream",
     "text": [
      "53/53 [==============================] - 36s 598ms/step - loss: 1.7722 - accuracy: 0.4110 - val_loss: 1.2966 - val_accuracy: 0.5168\n",
      "Epoch 2/20\n",
      "53/53 [==============================] - 31s 581ms/step - loss: 1.0403 - accuracy: 0.6367 - val_loss: 1.1216 - val_accuracy: 0.6058\n",
      "Epoch 3/20\n",
      "53/53 [==============================] - 30s 573ms/step - loss: 0.8434 - accuracy: 0.6897 - val_loss: 1.0568 - val_accuracy: 0.6394\n",
      "Epoch 4/20\n",
      "53/53 [==============================] - 30s 571ms/step - loss: 0.7460 - accuracy: 0.7308 - val_loss: 0.9252 - val_accuracy: 0.6442\n",
      "Epoch 5/20\n",
      "53/53 [==============================] - 32s 603ms/step - loss: 0.6732 - accuracy: 0.7582 - val_loss: 1.0961 - val_accuracy: 0.6226\n",
      "Epoch 6/20\n",
      "53/53 [==============================] - 31s 586ms/step - loss: 0.6278 - accuracy: 0.7713 - val_loss: 1.0043 - val_accuracy: 0.6226\n",
      "Epoch 7/20\n",
      "53/53 [==============================] - 30s 572ms/step - loss: 0.5768 - accuracy: 0.7975 - val_loss: 1.1445 - val_accuracy: 0.6298\n",
      "Epoch 8/20\n",
      "53/53 [==============================] - 33s 618ms/step - loss: 0.6110 - accuracy: 0.7921 - val_loss: 1.1183 - val_accuracy: 0.6298\n",
      "Epoch 9/20\n",
      "53/53 [==============================] - 34s 639ms/step - loss: 0.5935 - accuracy: 0.7844 - val_loss: 1.1076 - val_accuracy: 0.6442\n",
      "14/14 [==============================] - 7s 532ms/step - loss: 0.9934 - accuracy: 0.6315\n"
     ]
    },
    {
     "name": "stderr",
     "output_type": "stream",
     "text": [
      "WARNING:absl:At this time, the v2.11+ optimizer `tf.keras.optimizers.Adam` runs slowly on M1/M2 Macs, please use the legacy Keras optimizer instead, located at `tf.keras.optimizers.legacy.Adam`.\n",
      "WARNING:absl:There is a known slowdown when using v2.11+ Keras optimizers on M1/M2 Macs. Falling back to the legacy Keras optimizer, i.e., `tf.keras.optimizers.legacy.Adam`.\n"
     ]
    },
    {
     "name": "stdout",
     "output_type": "stream",
     "text": [
      "InceptionV3 Validation Accuracy: 63.15%\n",
      "Training DenseNet121...\n",
      "Epoch 1/20\n"
     ]
    },
    {
     "name": "stderr",
     "output_type": "stream",
     "text": [
      "2025-03-03 01:12:26.970586: I tensorflow/core/grappler/optimizers/custom_graph_optimizer_registry.cc:114] Plugin optimizer for device_type GPU is enabled.\n"
     ]
    },
    {
     "name": "stdout",
     "output_type": "stream",
     "text": [
      "53/53 [==============================] - ETA: 0s - loss: 2.0083 - accuracy: 0.3210"
     ]
    },
    {
     "name": "stderr",
     "output_type": "stream",
     "text": [
      "2025-03-03 01:13:05.357333: I tensorflow/core/grappler/optimizers/custom_graph_optimizer_registry.cc:114] Plugin optimizer for device_type GPU is enabled.\n"
     ]
    },
    {
     "name": "stdout",
     "output_type": "stream",
     "text": [
      "53/53 [==============================] - 51s 891ms/step - loss: 2.0083 - accuracy: 0.3210 - val_loss: 1.3514 - val_accuracy: 0.5409\n",
      "Epoch 2/20\n",
      "53/53 [==============================] - 48s 910ms/step - loss: 1.1506 - accuracy: 0.5849 - val_loss: 1.0827 - val_accuracy: 0.5793\n",
      "Epoch 3/20\n",
      "53/53 [==============================] - 44s 825ms/step - loss: 0.8869 - accuracy: 0.6790 - val_loss: 0.9127 - val_accuracy: 0.6779\n",
      "Epoch 4/20\n",
      "53/53 [==============================] - 48s 911ms/step - loss: 0.7376 - accuracy: 0.7367 - val_loss: 0.8510 - val_accuracy: 0.6827\n",
      "Epoch 5/20\n",
      "53/53 [==============================] - 44s 833ms/step - loss: 0.6188 - accuracy: 0.7880 - val_loss: 0.8270 - val_accuracy: 0.6803\n",
      "Epoch 6/20\n",
      "53/53 [==============================] - 45s 841ms/step - loss: 0.5880 - accuracy: 0.7820 - val_loss: 0.8170 - val_accuracy: 0.7091\n",
      "Epoch 7/20\n",
      "53/53 [==============================] - 45s 860ms/step - loss: 0.5155 - accuracy: 0.8148 - val_loss: 0.7570 - val_accuracy: 0.7139\n",
      "Epoch 8/20\n",
      "53/53 [==============================] - 45s 843ms/step - loss: 0.4748 - accuracy: 0.8422 - val_loss: 0.7227 - val_accuracy: 0.7476\n",
      "Epoch 9/20\n",
      "53/53 [==============================] - 43s 819ms/step - loss: 0.4525 - accuracy: 0.8410 - val_loss: 0.5915 - val_accuracy: 0.7957\n",
      "Epoch 10/20\n",
      "53/53 [==============================] - 41s 789ms/step - loss: 0.4307 - accuracy: 0.8505 - val_loss: 0.6169 - val_accuracy: 0.7812\n",
      "Epoch 11/20\n",
      "53/53 [==============================] - 42s 782ms/step - loss: 0.3938 - accuracy: 0.8660 - val_loss: 0.6082 - val_accuracy: 0.7885\n",
      "Epoch 12/20\n",
      "53/53 [==============================] - 42s 781ms/step - loss: 0.3900 - accuracy: 0.8714 - val_loss: 0.6139 - val_accuracy: 0.7740\n",
      "Epoch 13/20\n",
      "53/53 [==============================] - 42s 781ms/step - loss: 0.3426 - accuracy: 0.8880 - val_loss: 0.6025 - val_accuracy: 0.7692\n",
      "Epoch 14/20\n",
      "53/53 [==============================] - 42s 785ms/step - loss: 0.3528 - accuracy: 0.8737 - val_loss: 0.6231 - val_accuracy: 0.7716\n",
      "14/14 [==============================] - 10s 736ms/step - loss: 0.6670 - accuracy: 0.7347\n",
      "DenseNet121 Validation Accuracy: 73.47%\n",
      "\n",
      "Model Comparison:\n",
      "MobileNetV2: 76.29%\n",
      "ResNet50: 28.40%\n",
      "EfficientNetB0: 27.00%\n",
      "InceptionV3: 63.15%\n",
      "DenseNet121: 73.47%\n",
      "\n",
      "Best Model: MobileNetV2 with Accuracy: 76.29%\n",
      "Best model saved as 'best_cotton_disease_model.h5'.\n"
     ]
    },
    {
     "ename": "FileNotFoundError",
     "evalue": "[Errno 2] No such file or directory: 'path_to_random_image.jpg'",
     "output_type": "error",
     "traceback": [
      "\u001b[0;31m---------------------------------------------------------------------------\u001b[0m",
      "\u001b[0;31mFileNotFoundError\u001b[0m                         Traceback (most recent call last)",
      "Cell \u001b[0;32mIn[3], line 143\u001b[0m\n\u001b[1;32m    141\u001b[0m \u001b[38;5;66;03m# Test with a random image\u001b[39;00m\n\u001b[1;32m    142\u001b[0m random_image_path \u001b[38;5;241m=\u001b[39m \u001b[38;5;124m\"\u001b[39m\u001b[38;5;124mpath_to_random_image.jpg\u001b[39m\u001b[38;5;124m\"\u001b[39m  \u001b[38;5;66;03m# Replace with the path to a random image (e.g., sky)\u001b[39;00m\n\u001b[0;32m--> 143\u001b[0m result \u001b[38;5;241m=\u001b[39m \u001b[43mpredict_image\u001b[49m\u001b[43m(\u001b[49m\u001b[43mrandom_image_path\u001b[49m\u001b[43m,\u001b[49m\u001b[43m \u001b[49m\u001b[43mbest_model\u001b[49m\u001b[43m)\u001b[49m\n\u001b[1;32m    144\u001b[0m \u001b[38;5;28mprint\u001b[39m(\u001b[38;5;124mf\u001b[39m\u001b[38;5;124m\"\u001b[39m\u001b[38;5;124mPrediction for random image: \u001b[39m\u001b[38;5;132;01m{\u001b[39;00mresult\u001b[38;5;132;01m}\u001b[39;00m\u001b[38;5;124m\"\u001b[39m)\n",
      "Cell \u001b[0;32mIn[3], line 128\u001b[0m, in \u001b[0;36mpredict_image\u001b[0;34m(image_path, model, threshold)\u001b[0m\n\u001b[1;32m    127\u001b[0m \u001b[38;5;28;01mdef\u001b[39;00m \u001b[38;5;21mpredict_image\u001b[39m(image_path, model, threshold\u001b[38;5;241m=\u001b[39m\u001b[38;5;241m0.9\u001b[39m):\n\u001b[0;32m--> 128\u001b[0m     img \u001b[38;5;241m=\u001b[39m \u001b[43mtf\u001b[49m\u001b[38;5;241;43m.\u001b[39;49m\u001b[43mkeras\u001b[49m\u001b[38;5;241;43m.\u001b[39;49m\u001b[43mpreprocessing\u001b[49m\u001b[38;5;241;43m.\u001b[39;49m\u001b[43mimage\u001b[49m\u001b[38;5;241;43m.\u001b[39;49m\u001b[43mload_img\u001b[49m\u001b[43m(\u001b[49m\u001b[43mimage_path\u001b[49m\u001b[43m,\u001b[49m\u001b[43m \u001b[49m\u001b[43mtarget_size\u001b[49m\u001b[38;5;241;43m=\u001b[39;49m\u001b[43m(\u001b[49m\u001b[43mimg_width\u001b[49m\u001b[43m,\u001b[49m\u001b[43m \u001b[49m\u001b[43mimg_height\u001b[49m\u001b[43m)\u001b[49m\u001b[43m)\u001b[49m\n\u001b[1;32m    129\u001b[0m     img_array \u001b[38;5;241m=\u001b[39m tf\u001b[38;5;241m.\u001b[39mkeras\u001b[38;5;241m.\u001b[39mpreprocessing\u001b[38;5;241m.\u001b[39mimage\u001b[38;5;241m.\u001b[39mimg_to_array(img)\n\u001b[1;32m    130\u001b[0m     img_array \u001b[38;5;241m=\u001b[39m np\u001b[38;5;241m.\u001b[39mexpand_dims(img_array, axis\u001b[38;5;241m=\u001b[39m\u001b[38;5;241m0\u001b[39m) \u001b[38;5;241m/\u001b[39m \u001b[38;5;241m255.0\u001b[39m\n",
      "File \u001b[0;32m/opt/anaconda3/envs/AgriGo3/lib/python3.8/site-packages/keras/src/utils/image_utils.py:422\u001b[0m, in \u001b[0;36mload_img\u001b[0;34m(path, grayscale, color_mode, target_size, interpolation, keep_aspect_ratio)\u001b[0m\n\u001b[1;32m    420\u001b[0m     \u001b[38;5;28;01mif\u001b[39;00m \u001b[38;5;28misinstance\u001b[39m(path, pathlib\u001b[38;5;241m.\u001b[39mPath):\n\u001b[1;32m    421\u001b[0m         path \u001b[38;5;241m=\u001b[39m \u001b[38;5;28mstr\u001b[39m(path\u001b[38;5;241m.\u001b[39mresolve())\n\u001b[0;32m--> 422\u001b[0m     \u001b[38;5;28;01mwith\u001b[39;00m \u001b[38;5;28;43mopen\u001b[39;49m\u001b[43m(\u001b[49m\u001b[43mpath\u001b[49m\u001b[43m,\u001b[49m\u001b[43m \u001b[49m\u001b[38;5;124;43m\"\u001b[39;49m\u001b[38;5;124;43mrb\u001b[39;49m\u001b[38;5;124;43m\"\u001b[39;49m\u001b[43m)\u001b[49m \u001b[38;5;28;01mas\u001b[39;00m f:\n\u001b[1;32m    423\u001b[0m         img \u001b[38;5;241m=\u001b[39m pil_image\u001b[38;5;241m.\u001b[39mopen(io\u001b[38;5;241m.\u001b[39mBytesIO(f\u001b[38;5;241m.\u001b[39mread()))\n\u001b[1;32m    424\u001b[0m \u001b[38;5;28;01melse\u001b[39;00m:\n",
      "\u001b[0;31mFileNotFoundError\u001b[0m: [Errno 2] No such file or directory: 'path_to_random_image.jpg'"
     ]
    }
   ],
   "source": [
    "import os\n",
    "import numpy as np\n",
    "import tensorflow as tf\n",
    "from tensorflow.keras.preprocessing.image import ImageDataGenerator\n",
    "from tensorflow.keras.applications import MobileNetV2, ResNet50, EfficientNetB0, InceptionV3, DenseNet121\n",
    "from tensorflow.keras.layers import Dense, GlobalAveragePooling2D, Dropout\n",
    "from tensorflow.keras.models import Model\n",
    "from tensorflow.keras.optimizers import Adam\n",
    "from tensorflow.keras.callbacks import ModelCheckpoint, EarlyStopping\n",
    "from sklearn.metrics import classification_report\n",
    "\n",
    "dataset_dir = \"/Users/Academics/Sem6/Major Project/Cotton Data Set/SAR-CLD-2024 A Comprehensive Dataset for Cotton Leaf Disease Detection/Original Dataset\"  # Update this path to your dataset directory\n",
    "categories = [\"bacteria blight\", \"curl Virus\", \"healthy leaves\", \"herbicide growth damage\", \n",
    "              \"leafe hopper jassids\", \"leafe Redding\", \"leafe variegation\", \"invalid\"]  # Add \"invalid\" class\n",
    "\n",
    "\n",
    "img_width, img_height = 224, 224\n",
    "batch_size = 32\n",
    "num_classes = len(categories)\n",
    "\n",
    "datagen = ImageDataGenerator(\n",
    "    rescale=1.0/255.0,\n",
    "    validation_split=0.2,\n",
    "    rotation_range=20,\n",
    "    width_shift_range=0.2,\n",
    "    height_shift_range=0.2,\n",
    "    shear_range=0.2,\n",
    "    zoom_range=0.2,\n",
    "    horizontal_flip=True,\n",
    "    fill_mode='nearest'\n",
    ")\n",
    "\n",
    "train_generator = datagen.flow_from_directory(\n",
    "    dataset_dir,\n",
    "    target_size=(img_width, img_height),\n",
    "    batch_size=batch_size,\n",
    "    class_mode='categorical',\n",
    "    subset='training'\n",
    ")\n",
    "\n",
    "validation_generator = datagen.flow_from_directory(\n",
    "    dataset_dir,\n",
    "    target_size=(img_width, img_height),\n",
    "    batch_size=batch_size,\n",
    "    class_mode='categorical',\n",
    "    subset='validation'\n",
    ")\n",
    "\n",
    "# Function to build a transfer learning model\n",
    "def build_model(base_model, num_classes):\n",
    "    base_model.trainable = False  # Freeze the base model\n",
    "    x = base_model.output\n",
    "    x = GlobalAveragePooling2D()(x)\n",
    "    x = Dense(1024, activation='relu')(x)\n",
    "    x = Dropout(0.5)(x)  # Add dropout for regularization\n",
    "    predictions = Dense(num_classes, activation='softmax')(x)\n",
    "    model = Model(inputs=base_model.input, outputs=predictions)\n",
    "    return model\n",
    "\n",
    "# List of pre-trained models to compare\n",
    "models = {\n",
    "    \"MobileNetV2\": MobileNetV2(weights='imagenet', include_top=False, input_shape=(img_width, img_height, 3)),\n",
    "    \"ResNet50\": ResNet50(weights='imagenet', include_top=False, input_shape=(img_width, img_height, 3)),\n",
    "    \"EfficientNetB0\": EfficientNetB0(weights='imagenet', include_top=False, input_shape=(img_width, img_height, 3)),\n",
    "    \"InceptionV3\": InceptionV3(weights='imagenet', include_top=False, input_shape=(img_width, img_height, 3)),\n",
    "    \"DenseNet121\": DenseNet121(weights='imagenet', include_top=False, input_shape=(img_width, img_height, 3))\n",
    "}\n",
    "\n",
    "\n",
    "results = {}\n",
    "for model_name, base_model in models.items():\n",
    "    print(f\"Training {model_name}...\")\n",
    "    \n",
    "    \n",
    "    model = build_model(base_model, num_classes)\n",
    "    \n",
    "    \n",
    "    model.compile(optimizer=Adam(learning_rate=0.0001), loss='categorical_crossentropy', metrics=['accuracy'])\n",
    "    \n",
    "    \n",
    "    checkpoint = ModelCheckpoint(\n",
    "        f\"{model_name}_best_model.h5\",\n",
    "        monitor='val_accuracy',\n",
    "        save_best_only=True,\n",
    "        mode='max'\n",
    "    )\n",
    "    early_stopping = EarlyStopping(\n",
    "        monitor='val_accuracy',\n",
    "        patience=5,\n",
    "        restore_best_weights=True\n",
    "    )\n",
    "    \n",
    "    \n",
    "    history = model.fit(\n",
    "        train_generator,\n",
    "        steps_per_epoch=train_generator.samples // batch_size,\n",
    "        validation_data=validation_generator,\n",
    "        validation_steps=validation_generator.samples // batch_size,\n",
    "        epochs=20,\n",
    "        callbacks=[checkpoint, early_stopping]\n",
    "    )\n",
    "    \n",
    "   \n",
    "    val_loss, val_accuracy = model.evaluate(validation_generator)\n",
    "    results[model_name] = val_accuracy\n",
    "    print(f\"{model_name} Validation Accuracy: {val_accuracy * 100:.2f}%\")\n",
    "\n",
    "\n",
    "print(\"\\nModel Comparison:\")\n",
    "for model_name, accuracy in results.items():\n",
    "    print(f\"{model_name}: {accuracy * 100:.2f}%\")\n",
    "\n",
    "\n",
    "best_model_name = max(results, key=results.get)\n",
    "best_accuracy = results[best_model_name]\n",
    "print(f\"\\nBest Model: {best_model_name} with Accuracy: {best_accuracy * 100:.2f}%\")\n",
    "\n",
    "best_model = tf.keras.models.load_model(f\"{best_model_name}_best_model.h5\")\n",
    "best_model.save(\"best_cotton_disease_model.h5\")\n",
    "print(\"Best model saved as 'best_cotton_disease_model.h5'.\")\n",
    "\n",
    "def predict_image(image_path, model, threshold=0.9):\n",
    "    img = tf.keras.preprocessing.image.load_img(image_path, target_size=(img_width, img_height))\n",
    "    img_array = tf.keras.preprocessing.image.img_to_array(img)\n",
    "    img_array = np.expand_dims(img_array, axis=0) / 255.0\n",
    "    \n",
    "    predictions = model.predict(img_array)\n",
    "    predicted_class = np.argmax(predictions, axis=1)[0]\n",
    "    confidence = np.max(predictions)\n",
    "    \n",
    "    if confidence < threshold:\n",
    "        return \"Invalid image (not a cotton leaf)\"\n",
    "    else:\n",
    "        return categories[predicted_class]\n",
    "\n",
    "\n",
    "random_image_path = \"path_to_random_image.jpg\"  \n",
    "result = predict_image(random_image_path, best_model)\n",
    "print(f\"Prediction for random image: {result}\")\n"
   ]
  },
  {
   "cell_type": "code",
   "execution_count": null,
   "metadata": {},
   "outputs": [
    {
     "name": "stdout",
     "output_type": "stream",
     "text": [
      "1/1 [==============================] - 0s 75ms/step\n",
      "Prediction for random image: Invalid image (not a cotton leaf)\n"
     ]
    }
   ],
   "source": [
    "random_image_path = \"/Users/Academics/Sem6/Major Project/Cotton Data Set/SAR-CLD-2024 A Comprehensive Dataset for Cotton Leaf Disease Detection/Original Dataset/Curl Virus/CV00001.jpg\" \n",
    "result = predict_image(random_image_path, best_model)\n",
    "print(f\"Prediction for random image: {result}\")"
   ]
  },
  {
   "cell_type": "code",
   "execution_count": null,
   "metadata": {},
   "outputs": [],
   "source": []
  }
 ],
 "metadata": {
  "kernelspec": {
   "display_name": "AgriGo3",
   "language": "python",
   "name": "python3"
  },
  "language_info": {
   "codemirror_mode": {
    "name": "ipython",
    "version": 3
   },
   "file_extension": ".py",
   "mimetype": "text/x-python",
   "name": "python",
   "nbconvert_exporter": "python",
   "pygments_lexer": "ipython3",
   "version": "3.8.20"
  }
 },
 "nbformat": 4,
 "nbformat_minor": 2
}
